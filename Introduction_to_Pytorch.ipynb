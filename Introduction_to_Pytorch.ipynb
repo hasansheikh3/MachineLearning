{
  "nbformat": 4,
  "nbformat_minor": 0,
  "metadata": {
    "colab": {
      "name": "Introduction_to_Pytorch.ipynb",
      "provenance": [],
      "authorship_tag": "ABX9TyPP14IC/kV9GmBNZu8kyPdy",
      "include_colab_link": true
    },
    "kernelspec": {
      "name": "python3",
      "display_name": "Python 3"
    },
    "language_info": {
      "name": "python"
    }
  },
  "cells": [
    {
      "cell_type": "markdown",
      "metadata": {
        "id": "view-in-github",
        "colab_type": "text"
      },
      "source": [
        "<a href=\"https://colab.research.google.com/github/hasansheikh3/MachineLearning/blob/main/Introduction_to_Pytorch.ipynb\" target=\"_parent\"><img src=\"https://colab.research.google.com/assets/colab-badge.svg\" alt=\"Open In Colab\"/></a>"
      ]
    },
    {
      "cell_type": "markdown",
      "metadata": {
        "id": "2-WNNqyNHU4_"
      },
      "source": [
        "#**Introduction to Pytorch by Hasan Shaikh**"
      ]
    },
    {
      "cell_type": "code",
      "metadata": {
        "colab": {
          "base_uri": "https://localhost:8080/"
        },
        "id": "xq0zPJkmFM1Z",
        "outputId": "3111d863-2bfc-4f51-f0fd-e676d04c1d5b"
      },
      "source": [
        "#Creating a Tensor\n",
        "# A tensor is like a ndarray in numpy\n",
        "import torch\n",
        "b = torch.tensor([[1,2,3],[4,5,6]])\n",
        "b"
      ],
      "execution_count": 6,
      "outputs": [
        {
          "output_type": "execute_result",
          "data": {
            "text/plain": [
              "tensor([[1, 2, 3],\n",
              "        [4, 5, 6]])"
            ]
          },
          "metadata": {
            "tags": []
          },
          "execution_count": 6
        }
      ]
    },
    {
      "cell_type": "code",
      "metadata": {
        "colab": {
          "base_uri": "https://localhost:8080/"
        },
        "id": "nKXDkdULF0se",
        "outputId": "1aa1646a-38f4-4433-af13-ea9fd96dcdf1"
      },
      "source": [
        "#like Numpy we can create random matrices by using torch.rand function\n",
        "torch.rand(2,2)"
      ],
      "execution_count": 2,
      "outputs": [
        {
          "output_type": "execute_result",
          "data": {
            "text/plain": [
              "tensor([[0.8902, 0.7076],\n",
              "        [0.5723, 0.6574]])"
            ]
          },
          "metadata": {
            "tags": []
          },
          "execution_count": 2
        }
      ]
    },
    {
      "cell_type": "code",
      "metadata": {
        "id": "X7yZ3NOSGCqQ"
      },
      "source": [
        "a = torch.rand(3,3)"
      ],
      "execution_count": 3,
      "outputs": []
    },
    {
      "cell_type": "code",
      "metadata": {
        "colab": {
          "base_uri": "https://localhost:8080/"
        },
        "id": "zerKb95gGJmW",
        "outputId": "6b8d95c5-fb58-4c5b-d687-712c0c7ea012"
      },
      "source": [
        "#We can check number of rows and columns by torch.shape function\n",
        "a.shape"
      ],
      "execution_count": 7,
      "outputs": [
        {
          "output_type": "execute_result",
          "data": {
            "text/plain": [
              "torch.Size([3, 3])"
            ]
          },
          "metadata": {
            "tags": []
          },
          "execution_count": 7
        }
      ]
    },
    {
      "cell_type": "code",
      "metadata": {
        "colab": {
          "base_uri": "https://localhost:8080/"
        },
        "id": "DuYuAdH5GKii",
        "outputId": "1bc3e48b-aa78-489a-fbba-333df40e37c3"
      },
      "source": [
        "#We can multiply two matrices via dot product which is represented by matmul function\n",
        "matrix_a = torch.rand(2,2)\n",
        "matrix_b = torch.rand(2,2)\n",
        "torch.matmul(matrix_a,matrix_b)"
      ],
      "execution_count": 8,
      "outputs": [
        {
          "output_type": "execute_result",
          "data": {
            "text/plain": [
              "tensor([[0.1870, 0.2270],\n",
              "        [0.3659, 0.5188]])"
            ]
          },
          "metadata": {
            "tags": []
          },
          "execution_count": 8
        }
      ]
    },
    {
      "cell_type": "code",
      "metadata": {
        "colab": {
          "base_uri": "https://localhost:8080/"
        },
        "id": "DFMp47SxG9bt",
        "outputId": "dbc4b1e4-68a5-461d-bf5e-43812c1abf40"
      },
      "source": [
        "matrix_a * matrix_b"
      ],
      "execution_count": 9,
      "outputs": [
        {
          "output_type": "execute_result",
          "data": {
            "text/plain": [
              "tensor([[0.0106, 0.2422],\n",
              "        [0.2464, 0.1804]])"
            ]
          },
          "metadata": {
            "tags": []
          },
          "execution_count": 9
        }
      ]
    },
    {
      "cell_type": "code",
      "metadata": {
        "id": "D8AB1ZnoHFEc"
      },
      "source": [
        "#Like in Numpy, we can create matrices of zeros, ones and identity\n"
      ],
      "execution_count": null,
      "outputs": []
    }
  ]
}